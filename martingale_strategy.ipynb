{
 "cells": [
  {
   "cell_type": "code",
   "execution_count": 1,
   "id": "a69ee433",
   "metadata": {},
   "outputs": [],
   "source": [
    "import random as r"
   ]
  },
  {
   "cell_type": "code",
   "execution_count": 2,
   "id": "511801c1",
   "metadata": {},
   "outputs": [],
   "source": [
    "def getR():\n",
    "    return r.randint(1,3)"
   ]
  },
  {
   "cell_type": "code",
   "execution_count": 3,
   "id": "a9f4487b",
   "metadata": {},
   "outputs": [],
   "source": [
    "players = 2\n",
    "#contract balance\n",
    "contr = 0\n",
    "amount = 10\n",
    "\n",
    "#player balances\n",
    "bal = [0 for i in range(players)]\n",
    "#winning tracking\n",
    "bal_won = [False for i in range(players)]\n",
    "\n",
    "#number of bets\n",
    "bets = 10"
   ]
  },
  {
   "cell_type": "code",
   "execution_count": 4,
   "id": "77114ce8",
   "metadata": {},
   "outputs": [],
   "source": [
    "for x in range(bets):\n",
    "    for y in range(players):\n",
    "\n",
    "        #break if bal already won\n",
    "        if bal_won[y] == True:\n",
    "            continue\n",
    "\n",
    "        op = getR()\n",
    "        if op == 2:\n",
    "            #apply winning here\n",
    "            contr = contr - (2*amount)\n",
    "            bal[y] = bal[y]+(2*amount)\n",
    "            bal_won[y] = True\n",
    "\n",
    "        else:\n",
    "            #apply losing\n",
    "            contr = contr+amount\n",
    "            bal[y] = bal[y] - amount\t\n",
    "\n",
    "    #double increase the amount\n",
    "    amount = amount*(2.5)\n",
    "\n",
    "    #print(bal_won)\n",
    "    #print(bal)"
   ]
  },
  {
   "cell_type": "code",
   "execution_count": 5,
   "id": "15cca321",
   "metadata": {
    "scrolled": false
   },
   "outputs": [
    {
     "name": "stdout",
     "output_type": "stream",
     "text": [
      "end\n",
      "[20351.71875, 40.0]\n",
      "-20391.71875\n"
     ]
    }
   ],
   "source": [
    "print(\"end\")\n",
    "print(bal)\n",
    "print(contr)"
   ]
  }
 ],
 "metadata": {
  "kernelspec": {
   "display_name": "Python 3 (ipykernel)",
   "language": "python",
   "name": "python3"
  },
  "language_info": {
   "codemirror_mode": {
    "name": "ipython",
    "version": 3
   },
   "file_extension": ".py",
   "mimetype": "text/x-python",
   "name": "python",
   "nbconvert_exporter": "python",
   "pygments_lexer": "ipython3",
   "version": "3.9.10"
  }
 },
 "nbformat": 4,
 "nbformat_minor": 5
}
